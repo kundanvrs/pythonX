{
 "cells": [
  {
   "cell_type": "code",
   "execution_count": 2,
   "metadata": {},
   "outputs": [
    {
     "name": "stdout",
     "output_type": "stream",
     "text": [
      "I am in class A : Kundan\n",
      "I am in class B : Kumar\n"
     ]
    }
   ],
   "source": [
    "\n",
    "class A:\n",
    "    def displayA(name='Kundan'):\n",
    "        print('I am in class A :',name)\n",
    "\n",
    "class B(A):\n",
    "    def displayB(name='Kumar'):\n",
    "        print('I am in class B :',name)\n",
    "        \n",
    "b=B\n",
    "b.displayA()\n",
    "b.displayB()"
   ]
  },
  {
   "cell_type": "code",
   "execution_count": 4,
   "metadata": {},
   "outputs": [
    {
     "name": "stdout",
     "output_type": "stream",
     "text": [
      "I am in class A : Kundan\n",
      "I am in class B : Kumar\n",
      "I am in class C : Singh\n"
     ]
    }
   ],
   "source": [
    "#Herical inheritance\n",
    "\n",
    "class A:\n",
    "    def displayA(name='Kundan'):\n",
    "        print('I am in class A :',name)\n",
    "\n",
    "class B(A):\n",
    "    def displayB(name='Kumar'):\n",
    "        print('I am in class B :',name)\n",
    "        \n",
    "class C(B):\n",
    "    def displayC(name='Singh'):\n",
    "        print('I am in class C :',name)\n",
    "c=C\n",
    "c.displayA()\n",
    "c.displayB()\n",
    "c.displayC()"
   ]
  },
  {
   "cell_type": "code",
   "execution_count": 5,
   "metadata": {},
   "outputs": [
    {
     "name": "stdout",
     "output_type": "stream",
     "text": [
      "I am in class A : Kundan\n",
      "I am in class B : Kumar\n",
      "I am in class C : Singh\n"
     ]
    }
   ],
   "source": [
    "#Multiple inheritance\n",
    "\n",
    "class A:        \n",
    "    def displayA(name='Kundan'):\n",
    "        print('I am in class A :',name)\n",
    "\n",
    "class B():\n",
    "    def displayB(name='Kumar'):\n",
    "        print('I am in class B :',name)\n",
    "        \n",
    "class C(A,B):\n",
    "    def displayC(name='Singh'):\n",
    "        print('I am in class C :',name)\n",
    "c=C\n",
    "c.displayA()\n",
    "c.displayB()\n",
    "c.displayC()"
   ]
  }
 ],
 "metadata": {
  "kernelspec": {
   "display_name": "Python 3",
   "language": "python",
   "name": "python3"
  },
  "language_info": {
   "codemirror_mode": {
    "name": "ipython",
    "version": 3
   },
   "file_extension": ".py",
   "mimetype": "text/x-python",
   "name": "python",
   "nbconvert_exporter": "python",
   "pygments_lexer": "ipython3",
   "version": "3.7.3"
  }
 },
 "nbformat": 4,
 "nbformat_minor": 2
}
