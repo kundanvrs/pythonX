{
 "cells": [
  {
   "cell_type": "raw",
   "metadata": {},
   "source": [
    "Syntax\n",
    "=======\n",
    "def name_of_function(parameters):\n",
    "    '''\n",
    "    Docstring:Imformation about function\n",
    "    Input:input patameters\n",
    "    Output:Expected output\n",
    "    \n",
    "    '''\n",
    "    statements---\n",
    "    -------------\n",
    "    return (statement)"
   ]
  },
  {
   "cell_type": "code",
   "execution_count": 3,
   "metadata": {},
   "outputs": [
    {
     "name": "stdout",
     "output_type": "stream",
     "text": [
      "Help on function name_function in module __main__:\n",
      "\n",
      "name_function()\n",
      "    Docstring:Imformation about function\n",
      "    Input:No parameter\n",
      "    Output:Hello\n",
      "\n"
     ]
    }
   ],
   "source": [
    "def name_function():\n",
    "    '''\n",
    "    Docstring:Imformation about function\n",
    "    Input:No parameter\n",
    "    Output:Hello\n",
    "    \n",
    "    '''\n",
    "    print('Hello')\n",
    "    \n",
    "help(name_function) #use to find details about function"
   ]
  },
  {
   "cell_type": "code",
   "execution_count": 5,
   "metadata": {},
   "outputs": [
    {
     "name": "stdout",
     "output_type": "stream",
     "text": [
      "hello\n"
     ]
    }
   ],
   "source": [
    "def say_hello():  #no parameters\n",
    "    print('hello')\n",
    "\n",
    "say_hello()"
   ]
  },
  {
   "cell_type": "code",
   "execution_count": 11,
   "metadata": {},
   "outputs": [
    {
     "name": "stdout",
     "output_type": "stream",
     "text": [
      "hello Kundan\n"
     ]
    }
   ],
   "source": [
    "def say_hello(name):  #one parameters\n",
    "    print('hello '+name)\n",
    "\n",
    "say_hello('Kundan')"
   ]
  },
  {
   "cell_type": "code",
   "execution_count": 13,
   "metadata": {},
   "outputs": [
    {
     "name": "stdout",
     "output_type": "stream",
     "text": [
      "hello Kumar\n",
      "hello Kundan\n"
     ]
    }
   ],
   "source": [
    "def say_hello(name='Kumar'):  #default parameters\n",
    "    print('hello '+name)\n",
    "\n",
    "say_hello()\n",
    "say_hello('Kundan')"
   ]
  },
  {
   "cell_type": "code",
   "execution_count": 3,
   "metadata": {},
   "outputs": [
    {
     "data": {
      "text/plain": [
       "'Hello Kumar'"
      ]
     },
     "execution_count": 3,
     "metadata": {},
     "output_type": "execute_result"
    }
   ],
   "source": [
    "def say_hello(name='Kumar'):  #having return statement\n",
    "    return 'Hello '+name\n",
    "\n",
    "result=say_hello()\n",
    "result"
   ]
  },
  {
   "cell_type": "markdown",
   "metadata": {},
   "source": [
    "### make a copy of function\n",
    "test=say_hello\n",
    "test"
   ]
  },
  {
   "cell_type": "code",
   "execution_count": 8,
   "metadata": {},
   "outputs": [
    {
     "data": {
      "text/plain": [
       "<function __main__.say_hello(name='Kumar')>"
      ]
     },
     "execution_count": 8,
     "metadata": {},
     "output_type": "execute_result"
    }
   ],
   "source": [
    "test=say_hello\n",
    "test"
   ]
  },
  {
   "cell_type": "markdown",
   "metadata": {},
   "source": [
    "### function inside function"
   ]
  },
  {
   "cell_type": "code",
   "execution_count": null,
   "metadata": {},
   "outputs": [],
   "source": []
  },
  {
   "cell_type": "code",
   "execution_count": 2,
   "metadata": {},
   "outputs": [
    {
     "name": "stdout",
     "output_type": "stream",
     "text": [
      "hello Kumar\n",
      "\t I am inside say_hello() function\n"
     ]
    }
   ],
   "source": [
    "def say_hello(name='Kumar'):\n",
    "    print('hello '+name)\n",
    "    \n",
    "    def greet():\n",
    "        return '\\t I am inside say_hello() function'\n",
    "    \n",
    "    print(greet())\n",
    "\n",
    "say_hello()"
   ]
  },
  {
   "cell_type": "markdown",
   "metadata": {},
   "source": [
    "### return a function"
   ]
  },
  {
   "cell_type": "code",
   "execution_count": 15,
   "metadata": {},
   "outputs": [],
   "source": [
    "def say_hello(name='Kumar'):\n",
    "    print('hello '+name)\n",
    "    \n",
    "    def greet():\n",
    "        return '\\t I am inside say_hello() function'\n",
    "    \n",
    "    if name=='Kumar':\n",
    "        return greet\n"
   ]
  },
  {
   "cell_type": "code",
   "execution_count": 13,
   "metadata": {},
   "outputs": [
    {
     "name": "stdout",
     "output_type": "stream",
     "text": [
      "hello Kumar\n"
     ]
    },
    {
     "data": {
      "text/plain": [
       "'\\t I am inside say_hello() function'"
      ]
     },
     "execution_count": 13,
     "metadata": {},
     "output_type": "execute_result"
    }
   ],
   "source": [
    "new_fun=say_hello()\n",
    "new_fun()"
   ]
  },
  {
   "cell_type": "code",
   "execution_count": null,
   "metadata": {},
   "outputs": [],
   "source": []
  },
  {
   "cell_type": "code",
   "execution_count": null,
   "metadata": {},
   "outputs": [],
   "source": []
  }
 ],
 "metadata": {
  "kernelspec": {
   "display_name": "Python 3",
   "language": "python",
   "name": "python3"
  },
  "language_info": {
   "codemirror_mode": {
    "name": "ipython",
    "version": 3
   },
   "file_extension": ".py",
   "mimetype": "text/x-python",
   "name": "python",
   "nbconvert_exporter": "python",
   "pygments_lexer": "ipython3",
   "version": "3.7.3"
  }
 },
 "nbformat": 4,
 "nbformat_minor": 2
}
