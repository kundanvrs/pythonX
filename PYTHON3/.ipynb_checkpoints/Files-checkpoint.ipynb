{
 "cells": [
  {
   "cell_type": "raw",
   "metadata": {},
   "source": [
    "Syntax\n",
    "======\n",
    "fp=open(filename,mode)\n",
    "fp.method()"
   ]
  },
  {
   "cell_type": "code",
   "execution_count": 1,
   "metadata": {},
   "outputs": [],
   "source": [
    "myfile=open('myfile.txt','r')     #open file in read mode\n",
    "myfile=open('myfile.txt')     #default read mode\n",
    "myfile=open('myfile.txt','w')     #open file in write mode"
   ]
  },
  {
   "cell_type": "markdown",
   "metadata": {},
   "source": [
    "### Methods"
   ]
  },
  {
   "cell_type": "code",
   "execution_count": null,
   "metadata": {},
   "outputs": [],
   "source": [
    "myfile.readline()   #it will print one line\n",
    "myfile.readlines()   #entire lines as list\n",
    "\n",
    "myfile.write('Hello ,Welcome to Notebook\\n')  #it will write one string\n",
    "myfile.write(a_list)  #write all string in a list\n",
    "\n",
    "myfile.read()   #read entire file as string\n",
    "myfile.read(N)   #read upto n character\n",
    "\n",
    "myfile.close()     #usually close file after use\n",
    "myfile.flush()     #delete buffer without closing file\n",
    "\n",
    "myfile.seek(N)   #change file position\n"
   ]
  },
  {
   "cell_type": "markdown",
   "metadata": {},
   "source": [
    "### Iterator"
   ]
  },
  {
   "cell_type": "code",
   "execution_count": null,
   "metadata": {},
   "outputs": [],
   "source": [
    "for line in open('data'):   #file iterator"
   ]
  }
 ],
 "metadata": {
  "kernelspec": {
   "display_name": "Python 3",
   "language": "python",
   "name": "python3"
  },
  "language_info": {
   "codemirror_mode": {
    "name": "ipython",
    "version": 3
   },
   "file_extension": ".py",
   "mimetype": "text/x-python",
   "name": "python",
   "nbconvert_exporter": "python",
   "pygments_lexer": "ipython3",
   "version": "3.7.3"
  }
 },
 "nbformat": 4,
 "nbformat_minor": 2
}
