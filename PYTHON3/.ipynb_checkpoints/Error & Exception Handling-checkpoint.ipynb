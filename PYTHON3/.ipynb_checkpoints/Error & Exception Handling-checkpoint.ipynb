{
 "cells": [
  {
   "cell_type": "raw",
   "metadata": {},
   "source": [
    "syntax\n",
    "======\n",
    "try:\n",
    "    It has block of code,which may have error chances.\n",
    "except:\n",
    "    It will execute ,when try block will not execute..\n",
    "else:\n",
    "    It will execute ,when except block will not execute..\n",
    "\n",
    "finally:\n",
    "    It will execute always."
   ]
  },
  {
   "cell_type": "code",
   "execution_count": 5,
   "metadata": {},
   "outputs": [
    {
     "name": "stdout",
     "output_type": "stream",
     "text": [
      "20\n"
     ]
    }
   ],
   "source": [
    "try:\n",
    "    #Run block of code even it has error\n",
    "    #statements\n",
    "    result=10+10\n",
    "except:\n",
    "    print(\"It has somthing error\")\n",
    "print(result)"
   ]
  },
  {
   "cell_type": "code",
   "execution_count": 4,
   "metadata": {},
   "outputs": [
    {
     "name": "stdout",
     "output_type": "stream",
     "text": [
      "It has somthing error\n"
     ]
    }
   ],
   "source": [
    "try:\n",
    "    #Run block of code even it has error\n",
    "    #statements\n",
    "    result=10+\"20\"\n",
    "except:\n",
    "    print(\"It has somthing error\")\n",
    "else:\n",
    "    print(\"try code run well!\")\n",
    "    print(result)"
   ]
  },
  {
   "cell_type": "code",
   "execution_count": 7,
   "metadata": {},
   "outputs": [
    {
     "name": "stdout",
     "output_type": "stream",
     "text": [
      "try code run well!\n",
      "30\n"
     ]
    }
   ],
   "source": [
    "try:\n",
    "    #Run block of code even it has error\n",
    "    #statements\n",
    "    result=10+20\n",
    "except:\n",
    "    print(\"It has somthing error\")\n",
    "else:\n",
    "    print(\"try code run well!\")\n",
    "    print(result)"
   ]
  },
  {
   "cell_type": "code",
   "execution_count": 6,
   "metadata": {},
   "outputs": [
    {
     "name": "stdout",
     "output_type": "stream",
     "text": [
      "try block has OSError\n",
      "I always run\n"
     ]
    }
   ],
   "source": [
    "try:\n",
    "    f=open('testfile','r')\n",
    "    f.write(\"write something\")\n",
    "    \n",
    "except TypeError:\n",
    "    print(\"try block has TypeError\")\n",
    "except OSError:\n",
    "    print(\"try block has OSError\")\n",
    "finally:\n",
    "    print(\"I always run\")"
   ]
  },
  {
   "cell_type": "code",
   "execution_count": 2,
   "metadata": {},
   "outputs": [],
   "source": [
    "def ask_for_int():\n",
    "    while True:\n",
    "        try:\n",
    "            result=int(input(\"Please provide number :\"))\n",
    "        except:\n",
    "            print(\"Woops! That is not a number\")\n",
    "            continue\n",
    "        else:\n",
    "            print(\"Thank you\")\n",
    "            break\n",
    "           "
   ]
  },
  {
   "cell_type": "code",
   "execution_count": 3,
   "metadata": {},
   "outputs": [
    {
     "name": "stdout",
     "output_type": "stream",
     "text": [
      "Please provide number :23\n",
      "Thank you\n"
     ]
    }
   ],
   "source": [
    "ask_for_int()"
   ]
  },
  {
   "cell_type": "code",
   "execution_count": null,
   "metadata": {},
   "outputs": [],
   "source": []
  }
 ],
 "metadata": {
  "kernelspec": {
   "display_name": "Python 3",
   "language": "python",
   "name": "python3"
  },
  "language_info": {
   "codemirror_mode": {
    "name": "ipython",
    "version": 3
   },
   "file_extension": ".py",
   "mimetype": "text/x-python",
   "name": "python",
   "nbconvert_exporter": "python",
   "pygments_lexer": "ipython3",
   "version": "3.7.3"
  }
 },
 "nbformat": 4,
 "nbformat_minor": 2
}
