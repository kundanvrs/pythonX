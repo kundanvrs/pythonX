{
 "cells": [
  {
   "cell_type": "markdown",
   "metadata": {},
   "source": [
    "### Class"
   ]
  },
  {
   "cell_type": "code",
   "execution_count": null,
   "metadata": {},
   "outputs": [],
   "source": []
  },
  {
   "cell_type": "raw",
   "metadata": {},
   "source": [
    "Syntax:\n",
    "=======\n",
    "class Classname:\n",
    "  def __init__(self, parameters for initialization(name,age)):\n",
    "    self.name = name\n",
    "    self.age = age\n",
    "\n",
    "p1 = Classname(\"John\", 36) #call class\n",
    "print(p1.name)   #output Jhon"
   ]
  },
  {
   "cell_type": "code",
   "execution_count": 67,
   "metadata": {},
   "outputs": [
    {
     "name": "stdout",
     "output_type": "stream",
     "text": [
      "Name : John &  Age  : 36\n"
     ]
    }
   ],
   "source": [
    "class Person:           #simple class\n",
    "    def __init__(self, name, age):\n",
    "        self.name = name\n",
    "        self.age = age\n",
    "\n",
    "p1 = Person(\"John\", 36)\n",
    "print('Name :',p1.name, '&  Age  :',p1.age)\n"
   ]
  },
  {
   "cell_type": "code",
   "execution_count": 52,
   "metadata": {},
   "outputs": [
    {
     "name": "stdout",
     "output_type": "stream",
     "text": [
      "I am in class A : Kundan\n",
      "I am in class B : Kumar\n"
     ]
    }
   ],
   "source": [
    "#Inheritance\n",
    "\n",
    "class A:\n",
    "    def displayA(name='Kundan'):\n",
    "        print('I am in class A :',name)\n",
    "\n",
    "class B(A):\n",
    "    def displayB(name='Kumar'):\n",
    "        print('I am in class B :',name)\n",
    "        \n",
    "b=B\n",
    "b.displayA()\n",
    "b.displayB()"
   ]
  },
  {
   "cell_type": "code",
   "execution_count": null,
   "metadata": {},
   "outputs": [],
   "source": []
  }
 ],
 "metadata": {
  "kernelspec": {
   "display_name": "Python 3",
   "language": "python",
   "name": "python3"
  },
  "language_info": {
   "codemirror_mode": {
    "name": "ipython",
    "version": 3
   },
   "file_extension": ".py",
   "mimetype": "text/x-python",
   "name": "python",
   "nbconvert_exporter": "python",
   "pygments_lexer": "ipython3",
   "version": "3.7.3"
  }
 },
 "nbformat": 4,
 "nbformat_minor": 2
}
