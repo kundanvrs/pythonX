{
 "cells": [
  {
   "cell_type": "markdown",
   "metadata": {},
   "source": [
    "### Class"
   ]
  },
  {
   "cell_type": "code",
   "execution_count": null,
   "metadata": {},
   "outputs": [],
   "source": []
  },
  {
   "cell_type": "raw",
   "metadata": {},
   "source": [
    "Syntax:\n",
    "=======\n",
    "class Classname:\n",
    "  def __init__(self, parameters for initialization(name,age)):\n",
    "    self.name = name\n",
    "    self.age = age\n",
    "\n",
    "p1 = Classname(\"John\", 36) #call class\n",
    "print(p1.name)   #output Jhon"
   ]
  },
  {
   "cell_type": "code",
   "execution_count": null,
   "metadata": {},
   "outputs": [],
   "source": [
    "#smallest class\n",
    "class test: pass"
   ]
  },
  {
   "cell_type": "code",
   "execution_count": 67,
   "metadata": {},
   "outputs": [
    {
     "name": "stdout",
     "output_type": "stream",
     "text": [
      "Name : John &  Age  : 36\n"
     ]
    }
   ],
   "source": [
    "class Person:           #simple class\n",
    "    def __init__(self, name, age):\n",
    "        self.name = name\n",
    "        self.age = age\n",
    "\n",
    "p1 = Person(\"John\", 36)\n",
    "print('Name :',p1.name, '&  Age  :',p1.age)\n"
   ]
  },
  {
   "cell_type": "code",
   "execution_count": 68,
   "metadata": {},
   "outputs": [
    {
     "name": "stdout",
     "output_type": "stream",
     "text": [
      "I am in class A : Kundan\n",
      "I am in class B : Kumar\n"
     ]
    }
   ],
   "source": [
    "#Inheritance\n",
    "\n",
    "class A:\n",
    "    def displayA(name='Kundan'):\n",
    "        print('I am in class A :',name)\n",
    "\n",
    "class B(A):\n",
    "    def displayB(name='Kumar'):\n",
    "        print('I am in class B :',name)\n",
    "        \n",
    "b=B\n",
    "b.displayA()\n",
    "b.displayB()"
   ]
  },
  {
   "cell_type": "code",
   "execution_count": 94,
   "metadata": {},
   "outputs": [
    {
     "name": "stdout",
     "output_type": "stream",
     "text": [
      "['devops', 'dev'] ('Kundan', ['devops', 'dev']) 25\n",
      "['ops', 'devlop'] ('Kumar', ['ops', 'devlop']) None\n"
     ]
    }
   ],
   "source": [
    "class Person:\n",
    "    def __init__(self, name, jobs, age=None):      # class\n",
    "        self.name = name\n",
    "        self.jobs = jobs\n",
    "        self.age  = age\n",
    "        \n",
    "    def info(self):\n",
    "        return (self.name, self.jobs)\n",
    "    \n",
    "rec1=Person('Kundan',['devops','dev'],25)        #constructor call\n",
    "rec2=Person('Kumar',['ops','devlop'])\n",
    "\n",
    "print(rec1.jobs,rec1.info(),rec1.age)\n",
    "print(rec2.jobs,rec2.info(),rec2.age)"
   ]
  },
  {
   "cell_type": "markdown",
   "metadata": {},
   "source": [
    "### methods __repr__ and __str__\n"
   ]
  },
  {
   "cell_type": "raw",
   "metadata": {},
   "source": [
    "__repr__ and __str__\n",
    "\n",
    "str() is used for creating output for end user while repr() is mainly used for debugging and development.\n",
    "repr’s goal is to be unambiguous and str’s is to be readable."
   ]
  },
  {
   "cell_type": "code",
   "execution_count": 93,
   "metadata": {},
   "outputs": [
    {
     "name": "stdout",
     "output_type": "stream",
     "text": [
      "[Person: Bob Smith, 0]\n",
      "[Person: Sue Jones, 100000]\n",
      "Smith Jones\n",
      "[Person: Sue Jones, 110000]\n"
     ]
    }
   ],
   "source": [
    "class Person:\n",
    "    def __init__(self, name, job=None, pay=0):                #method\n",
    "        self.name = name\n",
    "        self.job  = job\n",
    "        self.pay  = pay\n",
    "        \n",
    "    def lastName(self):                                       #method\n",
    "        return self.name.split()[-1]\n",
    "    \n",
    "    def giveRaise(self, percent):                              #method\n",
    "        self.pay = int(self.pay * (1 + percent))\n",
    "    \n",
    "    def __repr__(self):                                        # Added method(repr and str =>used to print string in pattern)\n",
    "        return '[Person: %s, %s]' % (self.name, self.pay)      # String to print\n",
    "\n",
    "if __name__ == '__main__':                                  #use as menifest:py interpreter execute it first\n",
    "    bob = Person('Bob Smith')                              #if we want it as module __name__ is used as module name\n",
    "    sue = Person('Sue Jones', job='dev', pay=100000)\n",
    "    print(bob)\n",
    "    print(sue)\n",
    "    print(bob.lastName(), sue.lastName())\n",
    "    sue.giveRaise(.10)\n",
    "    print(sue)"
   ]
  },
  {
   "cell_type": "code",
   "execution_count": 99,
   "metadata": {},
   "outputs": [
    {
     "name": "stdout",
     "output_type": "stream",
     "text": [
      "[Person: Bob Smith, 0]\n",
      "[Person: Sue Jones, 100000]\n",
      "Smith Jones\n",
      "[Person: Sue Jones, 110000]\n",
      "Jones\n",
      "[Person: Tom Jones, 60000]\n",
      "-----------------------------All three----------------------------------------\n",
      "[Person: Bob Smith, 0]\n",
      "[Person: Sue Jones, 121000]\n",
      "[Person: Tom Jones, 72000]\n"
     ]
    }
   ],
   "source": [
    "#Using Inheritance\n",
    "\n",
    "class Person:\n",
    "    def __init__(self, name, job=None, pay=0):\n",
    "        self.name = name\n",
    "        self.job  = job\n",
    "        self.pay  = pay\n",
    "        \n",
    "    def lastName(self):\n",
    "        return self.name.split()[-1]\n",
    "    def giveRaise(self, percent):\n",
    "        self.pay = int(self.pay * (1 + percent))\n",
    "    def __repr__(self):\n",
    "        return '[Person: %s, %s]' % (self.name, self.pay)\n",
    "\n",
    "class Manager(Person):\n",
    "    def giveRaise(self, percent, bonus=.10):           # Redefine at this level\n",
    "        Person.giveRaise(self, percent + bonus)        # Call Person's version\n",
    "\n",
    "if __name__ == '__main__':\n",
    "    bob = Person('Bob Smith')\n",
    "    sue = Person('Sue Jones', job='dev', pay=100000)\n",
    "    print(bob)\n",
    "    print(sue)\n",
    "    print(bob.lastName(), sue.lastName())\n",
    "    sue.giveRaise(.10)\n",
    "    print(sue)\n",
    "    tom = Manager('Tom Jones', 'mgr', 50000)           # Make a Manager: __init__\n",
    "    tom.giveRaise(.10)                                 # Runs custom version\n",
    "    print(tom.lastName())                              # Runs inherited method\n",
    "    print(tom)                                         # Runs inherited __repr__\n",
    "    \n",
    "    \n",
    "    print('-----------------------------All three----------------------------------------')\n",
    "    for obj in (bob, sue, tom):               # Process objects generically\n",
    "        obj.giveRaise(.10)                    # Run this object's giveRaise\n",
    "        print(obj)"
   ]
  },
  {
   "cell_type": "markdown",
   "metadata": {},
   "source": [
    "### customerize constructor"
   ]
  },
  {
   "cell_type": "code",
   "execution_count": 100,
   "metadata": {},
   "outputs": [
    {
     "name": "stdout",
     "output_type": "stream",
     "text": [
      "[Person: Kundan, 40000]\n"
     ]
    }
   ],
   "source": [
    "\n",
    "class Manager(Person):\n",
    "    def __init__(self, name, pay):                     # Redefine constructor\n",
    "        Person.__init__(self, name, 'mgr', pay) \n",
    "        \n",
    "tom=Manager('Kundan',40000)                           #No need of job details\n",
    "print(tom)"
   ]
  }
 ],
 "metadata": {
  "kernelspec": {
   "display_name": "Python 3",
   "language": "python",
   "name": "python3"
  },
  "language_info": {
   "codemirror_mode": {
    "name": "ipython",
    "version": 3
   },
   "file_extension": ".py",
   "mimetype": "text/x-python",
   "name": "python",
   "nbconvert_exporter": "python",
   "pygments_lexer": "ipython3",
   "version": "3.7.3"
  }
 },
 "nbformat": 4,
 "nbformat_minor": 2
}
