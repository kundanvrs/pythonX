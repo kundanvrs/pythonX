{
 "cells": [
  {
   "cell_type": "raw",
   "metadata": {},
   "source": [
    "Syntax\n",
    "======\n",
    "fp=open(filename,mode)\n",
    "fp.method()"
   ]
  },
  {
   "cell_type": "code",
   "execution_count": 1,
   "metadata": {},
   "outputs": [],
   "source": [
    "myfile=open('myfile.txt','r')     #open file in read mode\n",
    "myfile=open('myfile.txt')     #default read mode\n",
    "myfile=open('myfile.txt','w')     #open file in write mode"
   ]
  },
  {
   "cell_type": "markdown",
   "metadata": {},
   "source": [
    "### Methods"
   ]
  },
  {
   "cell_type": "code",
   "execution_count": null,
   "metadata": {},
   "outputs": [],
   "source": [
    "myfile.readline()   #it will print one line\n",
    "myfile.readlines()   #entire lines as list\n",
    "\n",
    "myfile.write('Hello ,Welcome to Notebook\\n')  #it will write one string\n",
    "myfile.write(a_list)  #write all string in a list\n",
    "\n",
    "myfile.read()   #read entire file as string\n",
    "myfile.read(N)   #read upto n character\n",
    "\n",
    "myfile.close()     #usually close file after use\n",
    "myfile.flush()     #delete buffer without closing file\n",
    "\n",
    "myfile.seek(N)   #change file position\n"
   ]
  },
  {
   "cell_type": "code",
   "execution_count": 12,
   "metadata": {},
   "outputs": [
    {
     "name": "stdout",
     "output_type": "stream",
     "text": [
      "Hello How are you\n",
      "1Hello How are you\n",
      "2Hello How are you\n",
      "Hello How are you3\n",
      "Hello How are you4\n",
      "Hello How are you5\n",
      "\n"
     ]
    }
   ],
   "source": [
    "print(open('myfile.txt').read())"
   ]
  },
  {
   "cell_type": "markdown",
   "metadata": {},
   "source": [
    "### Iterator"
   ]
  },
  {
   "cell_type": "code",
   "execution_count": 14,
   "metadata": {},
   "outputs": [
    {
     "name": "stdout",
     "output_type": "stream",
     "text": [
      "Hello How are you\n",
      "1Hello How are you\n",
      "2Hello How are you\n",
      "Hello How are you3\n",
      "Hello How are you4\n",
      "Hello How are you5\n"
     ]
    }
   ],
   "source": [
    "for line in open('myfile.txt'):   #file iterator\n",
    "    print(line,end='')"
   ]
  },
  {
   "cell_type": "markdown",
   "metadata": {},
   "source": [
    "### Store object in file"
   ]
  },
  {
   "cell_type": "code",
   "execution_count": 18,
   "metadata": {},
   "outputs": [
    {
     "data": {
      "text/plain": [
       "5"
      ]
     },
     "execution_count": 18,
     "metadata": {},
     "output_type": "execute_result"
    }
   ],
   "source": [
    "X,Y,Z=43,33,31\n",
    "S='Spam'\n",
    "D={'a':1,'b':2}\n",
    "L=[1,2,3,4]\n",
    "\n",
    "fp=open('myfile.txt','w')\n",
    "fp.write(S + '\\n')\n",
    "fp.write('%s,%s,%s\\n' %(X,Y,Z))\n",
    "fp.write(str(L)+'$'+str(D))\n"
   ]
  }
 ],
 "metadata": {
  "kernelspec": {
   "display_name": "Python 3",
   "language": "python",
   "name": "python3"
  },
  "language_info": {
   "codemirror_mode": {
    "name": "ipython",
    "version": 3
   },
   "file_extension": ".py",
   "mimetype": "text/x-python",
   "name": "python",
   "nbconvert_exporter": "python",
   "pygments_lexer": "ipython3",
   "version": "3.7.3"
  }
 },
 "nbformat": 4,
 "nbformat_minor": 2
}
